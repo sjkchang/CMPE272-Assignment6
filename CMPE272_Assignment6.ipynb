{
  "nbformat": 4,
  "nbformat_minor": 0,
  "metadata": {
    "colab": {
      "provenance": []
    },
    "kernelspec": {
      "name": "python3",
      "display_name": "Python 3"
    },
    "language_info": {
      "name": "python"
    }
  },
  "cells": [
    {
      "cell_type": "markdown",
      "source": [
        "**Load Data**"
      ],
      "metadata": {
        "id": "RMvPMgSOV4_X"
      }
    },
    {
      "cell_type": "markdown",
      "source": [
        "We are using the sentiment140 Dataset"
      ],
      "metadata": {
        "id": "GZdMdV-AV4F5"
      }
    },
    {
      "cell_type": "code",
      "source": [
        "from google.colab import drive\n",
        "drive.mount('/content/drive')\n",
        "%cd /content/drive/MyDrive/Colab Notebooks/Datasets/255-Datasets/\n",
        "%ls"
      ],
      "metadata": {
        "id": "qfG638rNJgbp"
      },
      "execution_count": null,
      "outputs": []
    },
    {
      "cell_type": "code",
      "source": [
        "import pandas as pd\n",
        "\n",
        "# Load the dataset\n",
        "file_path = 'training.1600000.processed.noemoticon.csv'\n",
        "columns = ['target', 'ids', 'date', 'flag', 'user', 'text']\n",
        "\n",
        "# The dataset is known to be encoded in \"ISO-8859-1\"\n",
        "df = pd.read_csv(file_path, encoding='ISO-8859-1', names=columns)\n",
        "\n",
        "# Display the first few rows of the dataframe to understand its structure\n",
        "df.head()"
      ],
      "metadata": {
        "colab": {
          "base_uri": "https://localhost:8080/",
          "height": 206
        },
        "id": "MfK2ivbwJUrH",
        "outputId": "2decb0e9-3fa2-4851-fc77-b50971294820"
      },
      "execution_count": 4,
      "outputs": [
        {
          "output_type": "execute_result",
          "data": {
            "text/plain": [
              "   target         ids                          date      flag  \\\n",
              "0       0  1467810369  Mon Apr 06 22:19:45 PDT 2009  NO_QUERY   \n",
              "1       0  1467810672  Mon Apr 06 22:19:49 PDT 2009  NO_QUERY   \n",
              "2       0  1467810917  Mon Apr 06 22:19:53 PDT 2009  NO_QUERY   \n",
              "3       0  1467811184  Mon Apr 06 22:19:57 PDT 2009  NO_QUERY   \n",
              "4       0  1467811193  Mon Apr 06 22:19:57 PDT 2009  NO_QUERY   \n",
              "\n",
              "              user                                               text  \n",
              "0  _TheSpecialOne_  @switchfoot http://twitpic.com/2y1zl - Awww, t...  \n",
              "1    scotthamilton  is upset that he can't update his Facebook by ...  \n",
              "2         mattycus  @Kenichan I dived many times for the ball. Man...  \n",
              "3          ElleCTF    my whole body feels itchy and like its on fire   \n",
              "4           Karoli  @nationwideclass no, it's not behaving at all....  "
            ],
            "text/html": [
              "\n",
              "  <div id=\"df-697bcae9-00f6-4509-895f-b6bac891163f\" class=\"colab-df-container\">\n",
              "    <div>\n",
              "<style scoped>\n",
              "    .dataframe tbody tr th:only-of-type {\n",
              "        vertical-align: middle;\n",
              "    }\n",
              "\n",
              "    .dataframe tbody tr th {\n",
              "        vertical-align: top;\n",
              "    }\n",
              "\n",
              "    .dataframe thead th {\n",
              "        text-align: right;\n",
              "    }\n",
              "</style>\n",
              "<table border=\"1\" class=\"dataframe\">\n",
              "  <thead>\n",
              "    <tr style=\"text-align: right;\">\n",
              "      <th></th>\n",
              "      <th>target</th>\n",
              "      <th>ids</th>\n",
              "      <th>date</th>\n",
              "      <th>flag</th>\n",
              "      <th>user</th>\n",
              "      <th>text</th>\n",
              "    </tr>\n",
              "  </thead>\n",
              "  <tbody>\n",
              "    <tr>\n",
              "      <th>0</th>\n",
              "      <td>0</td>\n",
              "      <td>1467810369</td>\n",
              "      <td>Mon Apr 06 22:19:45 PDT 2009</td>\n",
              "      <td>NO_QUERY</td>\n",
              "      <td>_TheSpecialOne_</td>\n",
              "      <td>@switchfoot http://twitpic.com/2y1zl - Awww, t...</td>\n",
              "    </tr>\n",
              "    <tr>\n",
              "      <th>1</th>\n",
              "      <td>0</td>\n",
              "      <td>1467810672</td>\n",
              "      <td>Mon Apr 06 22:19:49 PDT 2009</td>\n",
              "      <td>NO_QUERY</td>\n",
              "      <td>scotthamilton</td>\n",
              "      <td>is upset that he can't update his Facebook by ...</td>\n",
              "    </tr>\n",
              "    <tr>\n",
              "      <th>2</th>\n",
              "      <td>0</td>\n",
              "      <td>1467810917</td>\n",
              "      <td>Mon Apr 06 22:19:53 PDT 2009</td>\n",
              "      <td>NO_QUERY</td>\n",
              "      <td>mattycus</td>\n",
              "      <td>@Kenichan I dived many times for the ball. Man...</td>\n",
              "    </tr>\n",
              "    <tr>\n",
              "      <th>3</th>\n",
              "      <td>0</td>\n",
              "      <td>1467811184</td>\n",
              "      <td>Mon Apr 06 22:19:57 PDT 2009</td>\n",
              "      <td>NO_QUERY</td>\n",
              "      <td>ElleCTF</td>\n",
              "      <td>my whole body feels itchy and like its on fire</td>\n",
              "    </tr>\n",
              "    <tr>\n",
              "      <th>4</th>\n",
              "      <td>0</td>\n",
              "      <td>1467811193</td>\n",
              "      <td>Mon Apr 06 22:19:57 PDT 2009</td>\n",
              "      <td>NO_QUERY</td>\n",
              "      <td>Karoli</td>\n",
              "      <td>@nationwideclass no, it's not behaving at all....</td>\n",
              "    </tr>\n",
              "  </tbody>\n",
              "</table>\n",
              "</div>\n",
              "    <div class=\"colab-df-buttons\">\n",
              "\n",
              "  <div class=\"colab-df-container\">\n",
              "    <button class=\"colab-df-convert\" onclick=\"convertToInteractive('df-697bcae9-00f6-4509-895f-b6bac891163f')\"\n",
              "            title=\"Convert this dataframe to an interactive table.\"\n",
              "            style=\"display:none;\">\n",
              "\n",
              "  <svg xmlns=\"http://www.w3.org/2000/svg\" height=\"24px\" viewBox=\"0 -960 960 960\">\n",
              "    <path d=\"M120-120v-720h720v720H120Zm60-500h600v-160H180v160Zm220 220h160v-160H400v160Zm0 220h160v-160H400v160ZM180-400h160v-160H180v160Zm440 0h160v-160H620v160ZM180-180h160v-160H180v160Zm440 0h160v-160H620v160Z\"/>\n",
              "  </svg>\n",
              "    </button>\n",
              "\n",
              "  <style>\n",
              "    .colab-df-container {\n",
              "      display:flex;\n",
              "      gap: 12px;\n",
              "    }\n",
              "\n",
              "    .colab-df-convert {\n",
              "      background-color: #E8F0FE;\n",
              "      border: none;\n",
              "      border-radius: 50%;\n",
              "      cursor: pointer;\n",
              "      display: none;\n",
              "      fill: #1967D2;\n",
              "      height: 32px;\n",
              "      padding: 0 0 0 0;\n",
              "      width: 32px;\n",
              "    }\n",
              "\n",
              "    .colab-df-convert:hover {\n",
              "      background-color: #E2EBFA;\n",
              "      box-shadow: 0px 1px 2px rgba(60, 64, 67, 0.3), 0px 1px 3px 1px rgba(60, 64, 67, 0.15);\n",
              "      fill: #174EA6;\n",
              "    }\n",
              "\n",
              "    .colab-df-buttons div {\n",
              "      margin-bottom: 4px;\n",
              "    }\n",
              "\n",
              "    [theme=dark] .colab-df-convert {\n",
              "      background-color: #3B4455;\n",
              "      fill: #D2E3FC;\n",
              "    }\n",
              "\n",
              "    [theme=dark] .colab-df-convert:hover {\n",
              "      background-color: #434B5C;\n",
              "      box-shadow: 0px 1px 3px 1px rgba(0, 0, 0, 0.15);\n",
              "      filter: drop-shadow(0px 1px 2px rgba(0, 0, 0, 0.3));\n",
              "      fill: #FFFFFF;\n",
              "    }\n",
              "  </style>\n",
              "\n",
              "    <script>\n",
              "      const buttonEl =\n",
              "        document.querySelector('#df-697bcae9-00f6-4509-895f-b6bac891163f button.colab-df-convert');\n",
              "      buttonEl.style.display =\n",
              "        google.colab.kernel.accessAllowed ? 'block' : 'none';\n",
              "\n",
              "      async function convertToInteractive(key) {\n",
              "        const element = document.querySelector('#df-697bcae9-00f6-4509-895f-b6bac891163f');\n",
              "        const dataTable =\n",
              "          await google.colab.kernel.invokeFunction('convertToInteractive',\n",
              "                                                    [key], {});\n",
              "        if (!dataTable) return;\n",
              "\n",
              "        const docLinkHtml = 'Like what you see? Visit the ' +\n",
              "          '<a target=\"_blank\" href=https://colab.research.google.com/notebooks/data_table.ipynb>data table notebook</a>'\n",
              "          + ' to learn more about interactive tables.';\n",
              "        element.innerHTML = '';\n",
              "        dataTable['output_type'] = 'display_data';\n",
              "        await google.colab.output.renderOutput(dataTable, element);\n",
              "        const docLink = document.createElement('div');\n",
              "        docLink.innerHTML = docLinkHtml;\n",
              "        element.appendChild(docLink);\n",
              "      }\n",
              "    </script>\n",
              "  </div>\n",
              "\n",
              "\n",
              "<div id=\"df-a3581a26-fce9-40b1-8950-300bd7c72e01\">\n",
              "  <button class=\"colab-df-quickchart\" onclick=\"quickchart('df-a3581a26-fce9-40b1-8950-300bd7c72e01')\"\n",
              "            title=\"Suggest charts\"\n",
              "            style=\"display:none;\">\n",
              "\n",
              "<svg xmlns=\"http://www.w3.org/2000/svg\" height=\"24px\"viewBox=\"0 0 24 24\"\n",
              "     width=\"24px\">\n",
              "    <g>\n",
              "        <path d=\"M19 3H5c-1.1 0-2 .9-2 2v14c0 1.1.9 2 2 2h14c1.1 0 2-.9 2-2V5c0-1.1-.9-2-2-2zM9 17H7v-7h2v7zm4 0h-2V7h2v10zm4 0h-2v-4h2v4z\"/>\n",
              "    </g>\n",
              "</svg>\n",
              "  </button>\n",
              "\n",
              "<style>\n",
              "  .colab-df-quickchart {\n",
              "      --bg-color: #E8F0FE;\n",
              "      --fill-color: #1967D2;\n",
              "      --hover-bg-color: #E2EBFA;\n",
              "      --hover-fill-color: #174EA6;\n",
              "      --disabled-fill-color: #AAA;\n",
              "      --disabled-bg-color: #DDD;\n",
              "  }\n",
              "\n",
              "  [theme=dark] .colab-df-quickchart {\n",
              "      --bg-color: #3B4455;\n",
              "      --fill-color: #D2E3FC;\n",
              "      --hover-bg-color: #434B5C;\n",
              "      --hover-fill-color: #FFFFFF;\n",
              "      --disabled-bg-color: #3B4455;\n",
              "      --disabled-fill-color: #666;\n",
              "  }\n",
              "\n",
              "  .colab-df-quickchart {\n",
              "    background-color: var(--bg-color);\n",
              "    border: none;\n",
              "    border-radius: 50%;\n",
              "    cursor: pointer;\n",
              "    display: none;\n",
              "    fill: var(--fill-color);\n",
              "    height: 32px;\n",
              "    padding: 0;\n",
              "    width: 32px;\n",
              "  }\n",
              "\n",
              "  .colab-df-quickchart:hover {\n",
              "    background-color: var(--hover-bg-color);\n",
              "    box-shadow: 0 1px 2px rgba(60, 64, 67, 0.3), 0 1px 3px 1px rgba(60, 64, 67, 0.15);\n",
              "    fill: var(--button-hover-fill-color);\n",
              "  }\n",
              "\n",
              "  .colab-df-quickchart-complete:disabled,\n",
              "  .colab-df-quickchart-complete:disabled:hover {\n",
              "    background-color: var(--disabled-bg-color);\n",
              "    fill: var(--disabled-fill-color);\n",
              "    box-shadow: none;\n",
              "  }\n",
              "\n",
              "  .colab-df-spinner {\n",
              "    border: 2px solid var(--fill-color);\n",
              "    border-color: transparent;\n",
              "    border-bottom-color: var(--fill-color);\n",
              "    animation:\n",
              "      spin 1s steps(1) infinite;\n",
              "  }\n",
              "\n",
              "  @keyframes spin {\n",
              "    0% {\n",
              "      border-color: transparent;\n",
              "      border-bottom-color: var(--fill-color);\n",
              "      border-left-color: var(--fill-color);\n",
              "    }\n",
              "    20% {\n",
              "      border-color: transparent;\n",
              "      border-left-color: var(--fill-color);\n",
              "      border-top-color: var(--fill-color);\n",
              "    }\n",
              "    30% {\n",
              "      border-color: transparent;\n",
              "      border-left-color: var(--fill-color);\n",
              "      border-top-color: var(--fill-color);\n",
              "      border-right-color: var(--fill-color);\n",
              "    }\n",
              "    40% {\n",
              "      border-color: transparent;\n",
              "      border-right-color: var(--fill-color);\n",
              "      border-top-color: var(--fill-color);\n",
              "    }\n",
              "    60% {\n",
              "      border-color: transparent;\n",
              "      border-right-color: var(--fill-color);\n",
              "    }\n",
              "    80% {\n",
              "      border-color: transparent;\n",
              "      border-right-color: var(--fill-color);\n",
              "      border-bottom-color: var(--fill-color);\n",
              "    }\n",
              "    90% {\n",
              "      border-color: transparent;\n",
              "      border-bottom-color: var(--fill-color);\n",
              "    }\n",
              "  }\n",
              "</style>\n",
              "\n",
              "  <script>\n",
              "    async function quickchart(key) {\n",
              "      const quickchartButtonEl =\n",
              "        document.querySelector('#' + key + ' button');\n",
              "      quickchartButtonEl.disabled = true;  // To prevent multiple clicks.\n",
              "      quickchartButtonEl.classList.add('colab-df-spinner');\n",
              "      try {\n",
              "        const charts = await google.colab.kernel.invokeFunction(\n",
              "            'suggestCharts', [key], {});\n",
              "      } catch (error) {\n",
              "        console.error('Error during call to suggestCharts:', error);\n",
              "      }\n",
              "      quickchartButtonEl.classList.remove('colab-df-spinner');\n",
              "      quickchartButtonEl.classList.add('colab-df-quickchart-complete');\n",
              "    }\n",
              "    (() => {\n",
              "      let quickchartButtonEl =\n",
              "        document.querySelector('#df-a3581a26-fce9-40b1-8950-300bd7c72e01 button');\n",
              "      quickchartButtonEl.style.display =\n",
              "        google.colab.kernel.accessAllowed ? 'block' : 'none';\n",
              "    })();\n",
              "  </script>\n",
              "</div>\n",
              "\n",
              "    </div>\n",
              "  </div>\n"
            ]
          },
          "metadata": {},
          "execution_count": 4
        }
      ]
    },
    {
      "cell_type": "markdown",
      "source": [
        "# Perform exploratory data analysis to understand the data and the distribution of the sentiments."
      ],
      "metadata": {
        "id": "zY7ZU2oIO3hv"
      }
    },
    {
      "cell_type": "code",
      "execution_count": 6,
      "metadata": {
        "colab": {
          "base_uri": "https://localhost:8080/",
          "height": 689
        },
        "id": "emE1jaTPJGzn",
        "outputId": "0d572a3a-9a54-4940-e5f2-ebd37eb70efc"
      },
      "outputs": [
        {
          "output_type": "display_data",
          "data": {
            "text/plain": [
              "<Figure size 1000x600 with 1 Axes>"
            ],
            "image/png": "[encoded data removed]"
          },
          "metadata": {}
        },
        {
          "output_type": "execute_result",
          "data": {
            "text/plain": [
              "target    0\n",
              "ids       0\n",
              "date      0\n",
              "flag      0\n",
              "user      0\n",
              "text      0\n",
              "dtype: int64"
            ]
          },
          "metadata": {},
          "execution_count": 6
        }
      ],
      "source": [
        "import matplotlib.pyplot as plt\n",
        "import seaborn as sns\n",
        "\n",
        "# Set the aesthetic style of the plots\n",
        "sns.set_style(\"whitegrid\")\n",
        "\n",
        "# Plot the distribution of sentiments\n",
        "plt.figure(figsize=(10, 6))\n",
        "sns.countplot(x='target', data=df)\n",
        "plt.title('Distribution of Sentiments in the Dataset')\n",
        "plt.xlabel('Sentiment')\n",
        "plt.ylabel('Number of Tweets')\n",
        "plt.xticks(ticks=[0, 1], labels=['Negative (0)', 'Positive (4)'])\n",
        "plt.show()\n",
        "\n",
        "# Checking for missing values in the dataset\n",
        "missing_values = df.isnull().sum()\n",
        "\n",
        "# Display basic statistics of the 'date' and 'user' columns\n",
        "date_info = df['date'].describe()\n",
        "user_info = df['user'].describe()\n",
        "\n",
        "missing_values"
      ]
    },
    {
      "cell_type": "markdown",
      "source": [
        "Sentiment Distribution\n",
        "  - The dataset is evenly distributed between negative (0) and positive (4) sentiments. This balance is ideal for training sentiment analysis models, as it avoids bias towards a particular sentiment.\n",
        "\n",
        "Missing Values\n",
        "  - The dataset does not have any missing values in any of the columns (target, ids, date, flag, user, and text). This indicates good data quality and completeness.\n",
        "\n",
        "Date Information:\n",
        "  - The dataset contains a wide range of dates, but the most frequent date in the dataset is \"Mon Jun 15 12:53:14 PDT 2009\".\n",
        "  - The 'date' column has a high degree of uniqueness, suggesting a diverse time range of tweets.\n",
        "\n",
        "User Information:\n",
        "  - There are 659,775 unique users in the dataset.\n",
        "  - The most frequent user in the dataset is 'lost_dog', appearing 549 times."
      ],
      "metadata": {
        "id": "cAfrSfbnPAYW"
      }
    },
    {
      "cell_type": "code",
      "source": [
        "import datetime as dt\n",
        "\n",
        "# Convert 'date' column to datetime for better analysis\n",
        "df['date'] = pd.to_datetime(df['date'], format='%a %b %d %H:%M:%S PDT %Y')\n",
        "\n",
        "# Extracting year, month, day, and hour for more detailed analysis\n",
        "df['year'] = df['date'].dt.year\n",
        "df['month'] = df['date'].dt.month\n",
        "df['day'] = df['date'].dt.day\n",
        "df['hour'] = df['date'].dt.hour\n",
        "\n",
        "# Analyzing the distribution of tweets over different time frames\n",
        "year_distribution = df['year'].value_counts()\n",
        "month_distribution = df['month'].value_counts()\n",
        "day_distribution = df['day'].value_counts()\n",
        "hour_distribution = df['hour'].value_counts()\n",
        "\n",
        "# Checking the distribution of tweets by users\n",
        "user_tweet_counts = df['user'].value_counts()\n",
        "\n",
        "year_distribution"
      ],
      "metadata": {
        "colab": {
          "base_uri": "https://localhost:8080/"
        },
        "id": "TfCotMTHOQRM",
        "outputId": "32d8a66f-138d-4064-e2d3-90430b420adc"
      },
      "execution_count": 8,
      "outputs": [
        {
          "output_type": "execute_result",
          "data": {
            "text/plain": [
              "2009    1600000\n",
              "Name: year, dtype: int64"
            ]
          },
          "metadata": {},
          "execution_count": 8
        }
      ]
    },
    {
      "cell_type": "code",
      "source": [
        "month_distribution"
      ],
      "metadata": {
        "colab": {
          "base_uri": "https://localhost:8080/"
        },
        "id": "Nxz3wY9SOeAd",
        "outputId": "1e0245b8-3eb2-4df4-91d1-8583bd523924"
      },
      "execution_count": 9,
      "outputs": [
        {
          "output_type": "execute_result",
          "data": {
            "text/plain": [
              "6    923608\n",
              "5    576367\n",
              "4    100025\n",
              "Name: month, dtype: int64"
            ]
          },
          "metadata": {},
          "execution_count": 9
        }
      ]
    },
    {
      "cell_type": "code",
      "source": [
        "day_distribution"
      ],
      "metadata": {
        "colab": {
          "base_uri": "https://localhost:8080/"
        },
        "id": "XxkusnDDOgJa",
        "outputId": "9e23ee1e-6cc0-4d90-e879-26503dbbb96a"
      },
      "execution_count": 10,
      "outputs": [
        {
          "output_type": "execute_result",
          "data": {
            "text/plain": [
              "1     118006\n",
              "6     115036\n",
              "7     113661\n",
              "15    109781\n",
              "30    103673\n",
              "18    101227\n",
              "31     94588\n",
              "2      91626\n",
              "17     87250\n",
              "16     77126\n",
              "3      76921\n",
              "29     73827\n",
              "19     70605\n",
              "20     63824\n",
              "5      58757\n",
              "22     51083\n",
              "21     27079\n",
              "10     26029\n",
              "14     25732\n",
              "4      23323\n",
              "25     19863\n",
              "23     17171\n",
              "28     15903\n",
              "9      11739\n",
              "26     10778\n",
              "24      6299\n",
              "11      4186\n",
              "13      4066\n",
              "27       841\n",
              "Name: day, dtype: int64"
            ]
          },
          "metadata": {},
          "execution_count": 10
        }
      ]
    },
    {
      "cell_type": "code",
      "source": [
        "hour_distribution"
      ],
      "metadata": {
        "colab": {
          "base_uri": "https://localhost:8080/"
        },
        "id": "2s096ntBOiZn",
        "outputId": "63e53bfb-544e-4d33-c0aa-e01f67d98527"
      },
      "execution_count": 11,
      "outputs": [
        {
          "output_type": "execute_result",
          "data": {
            "text/plain": [
              "23    84750\n",
              "7     83654\n",
              "0     80865\n",
              "6     80852\n",
              "5     78623\n",
              "22    78328\n",
              "4     76995\n",
              "8     76287\n",
              "1     75268\n",
              "3     74253\n",
              "2     73991\n",
              "21    68964\n",
              "9     67278\n",
              "11    61009\n",
              "10    60689\n",
              "19    57722\n",
              "20    57059\n",
              "16    55720\n",
              "18    53485\n",
              "17    51843\n",
              "12    51653\n",
              "15    50643\n",
              "14    50380\n",
              "13    49689\n",
              "Name: hour, dtype: int64"
            ]
          },
          "metadata": {},
          "execution_count": 11
        }
      ]
    },
    {
      "cell_type": "code",
      "source": [
        "user_tweet_counts.head(10)"
      ],
      "metadata": {
        "colab": {
          "base_uri": "https://localhost:8080/"
        },
        "id": "tSY-IbiwOkXn",
        "outputId": "8568f9ff-5bf4-4ccd-ed19-4dc6eb297352"
      },
      "execution_count": 13,
      "outputs": [
        {
          "output_type": "execute_result",
          "data": {
            "text/plain": [
              "lost_dog           549\n",
              "webwoke            345\n",
              "tweetpet           310\n",
              "SallytheShizzle    281\n",
              "VioletsCRUK        279\n",
              "mcraddictal        276\n",
              "tsarnick           248\n",
              "what_bugs_u        246\n",
              "Karen230683        238\n",
              "DarkPiano          236\n",
              "Name: user, dtype: int64"
            ]
          },
          "metadata": {},
          "execution_count": 13
        }
      ]
    },
    {
      "cell_type": "markdown",
      "source": [
        "Takeaways\n",
        "\n",
        "Year Distribution:\n",
        "\n",
        "    All tweets in the dataset are from the year 2009.\n",
        "\n",
        "Month Distribution:\n",
        "\n",
        "    The majority of tweets are from June (923,608 tweets), followed by May (576,367) and April (100,025). This suggests that the data collection was most intensive during these months.\n",
        "\n",
        "Day Distribution:\n",
        "\n",
        "    The distribution across days shows a relatively even spread, with the 1st, 6th, 7th, 15th, and 30th of the months having the highest number of tweets.\n",
        "\n",
        "Hour Distribution:\n",
        "\n",
        "    Tweets are fairly evenly distributed across different hours of the day, with the highest frequencies observed during the late night hours (23:00, 0:00, and 1:00) and early morning (6:00 and 7:00).\n",
        "\n",
        "User Tweet Counts:\n",
        "\n",
        "    The top tweeting users in the dataset are 'lost_dog' (549 tweets), 'webwoke' (345), and 'tweetpet' (310). This indicates a few users are particularly active or influential in this dataset"
      ],
      "metadata": {
        "id": "Olo6as4UOvGn"
      }
    },
    {
      "cell_type": "markdown",
      "source": [
        "# Use ChatGPT Plus to generate tweets related to a topic or keyword, and then analyze the sentiment of those tweets.\n"
      ],
      "metadata": {
        "id": "2OxBIYnyOP1A"
      }
    },
    {
      "cell_type": "markdown",
      "source": [
        "To generate tweets related to a common topic from the dataset and compare them against actual tweets using perplexity, we'll follow these steps:\n",
        "\n",
        "  1. **Identify a Common Topic**: We need to select a topic that is prevalent in the dataset. This could be done by analyzing the most frequent words or themes in the tweets."
      ],
      "metadata": {
        "id": "yJhrmVZXP2ez"
      }
    },
    {
      "cell_type": "code",
      "source": [
        "import pandas as pd\n",
        "import nltk\n",
        "from nltk.corpus import stopwords\n",
        "from nltk.tokenize import word_tokenize\n",
        "from collections import Counter\n",
        "import re\n",
        "\n",
        "# Ensure that NLTK's resources are downloaded\n",
        "nltk.download('punkt')\n",
        "nltk.download('stopwords')\n",
        "\n",
        "# Function to clean tweet text by removing links, special characters, etc.\n",
        "def clean_tweet(text):\n",
        "    return ' '.join(re.sub(\"(@[A-Za-z0-9]+)|([^0-9A-Za-z \\t])|(\\w+:\\/\\/\\S+)\", \" \", text).split())\n",
        "\n",
        "# Load your dataset\n",
        "file_path = 'training.1600000.processed.noemoticon.csv'  # Replace with your dataset path\n",
        "columns = ['target', 'ids', 'date', 'flag', 'user', 'text']\n",
        "df = pd.read_csv(file_path, encoding='ISO-8859-1', names=columns)\n",
        "\n",
        "# Clean the tweets\n",
        "df['clean_text'] = df['text'].apply(clean_tweet)\n",
        "\n",
        "# Taking a random sample of the dataset\n",
        "sample_df = df.sample(n=10000, random_state=1)\n",
        "\n",
        "# Extracting words from the sample tweets\n",
        "sample_words = ' '.join(sample_df['clean_text']).split()\n",
        "\n",
        "# Function to filter out stopwords and non-alphabetic words\n",
        "def filter_words(words):\n",
        "    stop_words = set(stopwords.words('english'))\n",
        "    return [word for word in words if word.isalpha() and word not in stop_words]\n",
        "\n",
        "# Filtering out stopwords and non-alphabetic words\n",
        "filtered_words = filter_words(sample_words)\n",
        "\n",
        "# Counting the frequency of each filtered word\n",
        "filtered_word_counts = Counter(filtered_words)\n",
        "\n",
        "# Display the most common filtered words (potential topics)\n",
        "common_words = filtered_word_counts.most_common(10)\n",
        "print(common_words)"
      ],
      "metadata": {
        "colab": {
          "base_uri": "https://localhost:8080/"
        },
        "id": "8tHPajHcRbtL",
        "outputId": "e9b00a1e-9dc6-47dd-f6c3-0d6d4fcff89d"
      },
      "execution_count": 15,
      "outputs": [
        {
          "output_type": "stream",
          "name": "stderr",
          "text": [
            "[nltk_data] Downloading package punkt to /root/nltk_data...\n",
            "[nltk_data]   Package punkt is already up-to-date!\n",
            "[nltk_data] Downloading package stopwords to /root/nltk_data...\n",
            "[nltk_data]   Package stopwords is already up-to-date!\n"
          ]
        },
        {
          "output_type": "stream",
          "name": "stdout",
          "text": [
            "[('I', 4104), ('like', 503), ('get', 499), ('day', 476), ('good', 476), ('go', 417), ('quot', 407), ('today', 371), ('work', 356), ('got', 355)]\n"
          ]
        }
      ]
    },
    {
      "cell_type": "markdown",
      "source": [
        "Based on this, the most common topic accross the data set that is not filler word is work. So we will have ChatGPT generate tweets related to work"
      ],
      "metadata": {
        "id": "TpHOKCbBR02N"
      }
    },
    {
      "cell_type": "markdown",
      "source": [
        " 2. **Generate Tweets Related to Topic**: Using the identified topic, I can create synthetic tweets that are similar in style and content to those in the dataset.\n"
      ],
      "metadata": {
        "id": "yFvRQabISOFf"
      }
    },
    {
      "cell_type": "markdown",
      "source": [
        "ChatGPT Generated these 20 tweets related to work\n",
        "\n",
        "    \"Starting the week with a full to-do list! Let's do this! #MondayMotivation\"\n",
        "    \"Work from home day means pajamas and productivity. #RemoteLife\"\n",
        "    \"Nothing beats the feeling of ticking off everything on your task list. #ProductiveDay\"\n",
        "    \"Why does coffee always seem to work faster in the office? #OfficeMysteries\"\n",
        "    \"Team brainstorming sessions always spark the best ideas. #Collaboration\"\n",
        "    \"When your work presentation goes exactly as planned. #Success\"\n",
        "    \"Counting down the minutes until the weekend starts! #FridayFeeling\"\n",
        "    \"Just got praised by my boss for my latest project. Feeling proud! #WorkWin\"\n",
        "    \"Survived another hectic day at work. Time for some well-deserved rest! #BusyDay\"\n",
        "    \"Nothing like a bit of office banter to brighten up the day. #WorkFun\"\n",
        "    \"Lunch break walks are the best way to recharge. #WorkLifeBalance\"\n",
        "    \"The satisfaction of solving a tough problem at work is unmatched. #ProblemSolver\"\n",
        "    \"Early morning meetings should be illegal. #TooEarly\"\n",
        "    \"That moment when your work email finally hits inbox zero. #AchievementUnlocked\"\n",
        "    \"Love it when the whole team comes together to beat a tight deadline. #Teamwork\"\n",
        "    \"Training new staff always reminds me how far I've come. #Mentoring\"\n",
        "    \"Sometimes the best part of my workday is the quiet after everyone leaves. #Peaceful\"\n",
        "    \"Work travel might be tiring, but it's always an adventure. #BusinessTrip\"\n",
        "    \"Is there anything more satisfying than a freshly organized workspace? #DeskGoals\"\n",
        "    \"End of the day and my to-do list is longer than when I started... How? #WorkMysteries\""
      ],
      "metadata": {
        "id": "EeisYIVbS1lG"
      }
    },
    {
      "cell_type": "code",
      "source": [
        "generated_tweets = [\n",
        "    \"Starting the week with a full to-do list! Let's do this! #MondayMotivation\",\n",
        "    \"Work from home day means pajamas and productivity. #RemoteLife\",\n",
        "    \"Nothing beats the feeling of ticking off everything on your task list. #ProductiveDay\",\n",
        "    \"Why does coffee always seem to work faster in the office? #OfficeMysteries\",\n",
        "    \"Team brainstorming sessions always spark the best ideas. #Collaboration\",\n",
        "    \"When your work presentation goes exactly as planned. #Success\",\n",
        "    \"Counting down the minutes until the weekend starts! #FridayFeeling\",\n",
        "    \"Just got praised by my boss for my latest project. Feeling proud! #WorkWin\",\n",
        "    \"Survived another hectic day at work. Time for some well-deserved rest! #BusyDay\",\n",
        "    \"Nothing like a bit of office banter to brighten up the day. #WorkFun\",\n",
        "    \"Lunch break walks are the best way to recharge. #WorkLifeBalance\",\n",
        "    \"The satisfaction of solving a tough problem at work is unmatched. #ProblemSolver\",\n",
        "    \"Early morning meetings should be illegal. #TooEarly\",\n",
        "    \"That moment when your work email finally hits inbox zero. #AchievementUnlocked\",\n",
        "    \"Love it when the whole team comes together to beat a tight deadline. #Teamwork\",\n",
        "    \"Training new staff always reminds me how far I've come. #Mentoring\",\n",
        "    \"Sometimes the best part of my workday is the quiet after everyone leaves. #Peaceful\",\n",
        "    \"Work travel might be tiring, but it's always an adventure. #BusinessTrip\",\n",
        "    \"Is there anything more satisfying than a freshly organized workspace? #DeskGoals\",\n",
        "    \"End of the day and my to-do list is longer than when I started... How? #WorkMysteries\",\n",
        "]"
      ],
      "metadata": {
        "id": "oN1x4walS9jV"
      },
      "execution_count": 17,
      "outputs": []
    },
    {
      "cell_type": "markdown",
      "source": [
        "  3. Analyze Sentiment of Generated Tweets"
      ],
      "metadata": {
        "id": "rX0pNmugTioi"
      }
    },
    {
      "cell_type": "code",
      "source": [
        "import nltk\n",
        "nltk.download('vader_lexicon')"
      ],
      "metadata": {
        "colab": {
          "base_uri": "https://localhost:8080/"
        },
        "id": "mmCBqs-BTt3Y",
        "outputId": "40021276-4e3a-4162-a688-55e72b3fe293"
      },
      "execution_count": 16,
      "outputs": [
        {
          "output_type": "stream",
          "name": "stderr",
          "text": [
            "[nltk_data] Downloading package vader_lexicon to /root/nltk_data...\n"
          ]
        },
        {
          "output_type": "execute_result",
          "data": {
            "text/plain": [
              "True"
            ]
          },
          "metadata": {},
          "execution_count": 16
        }
      ]
    },
    {
      "cell_type": "code",
      "source": [
        "from nltk.sentiment import SentimentIntensityAnalyzer\n",
        "\n",
        "# Initialize the VADER sentiment intensity analyzer\n",
        "sia = SentimentIntensityAnalyzer()\n",
        "\n",
        "# Function to analyze sentiment of a tweet\n",
        "def analyze_sentiment(tweet):\n",
        "    sentiment = sia.polarity_scores(tweet)\n",
        "    return sentiment\n",
        "\n",
        "# Analyzing each tweet\n",
        "sentiment_scores = [analyze_sentiment(tweet) for tweet in generated_tweets]\n",
        "\n",
        "# Display the sentiment scores\n",
        "for tweet, sentiment in zip(generated_tweets, sentiment_scores):\n",
        "    print(f\"Tweet: {tweet}\\nSentiment: {sentiment}\\n\")"
      ],
      "metadata": {
        "colab": {
          "base_uri": "https://localhost:8080/"
        },
        "id": "iOKBNGjeTxAF",
        "outputId": "dd97002d-13fe-4c65-f5a8-a57a9e456708"
      },
      "execution_count": 19,
      "outputs": [
        {
          "output_type": "stream",
          "name": "stdout",
          "text": [
            "Tweet: Starting the week with a full to-do list! Let's do this! #MondayMotivation\n",
            "Sentiment: {'neg': 0.0, 'neu': 1.0, 'pos': 0.0, 'compound': 0.0}\n",
            "\n",
            "Tweet: Work from home day means pajamas and productivity. #RemoteLife\n",
            "Sentiment: {'neg': 0.0, 'neu': 1.0, 'pos': 0.0, 'compound': 0.0}\n",
            "\n",
            "Tweet: Nothing beats the feeling of ticking off everything on your task list. #ProductiveDay\n",
            "Sentiment: {'neg': 0.102, 'neu': 0.898, 'pos': 0.0, 'compound': -0.0951}\n",
            "\n",
            "Tweet: Why does coffee always seem to work faster in the office? #OfficeMysteries\n",
            "Sentiment: {'neg': 0.0, 'neu': 1.0, 'pos': 0.0, 'compound': 0.0}\n",
            "\n",
            "Tweet: Team brainstorming sessions always spark the best ideas. #Collaboration\n",
            "Sentiment: {'neg': 0.0, 'neu': 0.534, 'pos': 0.466, 'compound': 0.7269}\n",
            "\n",
            "Tweet: When your work presentation goes exactly as planned. #Success\n",
            "Sentiment: {'neg': 0.0, 'neu': 1.0, 'pos': 0.0, 'compound': 0.0}\n",
            "\n",
            "Tweet: Counting down the minutes until the weekend starts! #FridayFeeling\n",
            "Sentiment: {'neg': 0.0, 'neu': 1.0, 'pos': 0.0, 'compound': 0.0}\n",
            "\n",
            "Tweet: Just got praised by my boss for my latest project. Feeling proud! #WorkWin\n",
            "Sentiment: {'neg': 0.0, 'neu': 0.553, 'pos': 0.447, 'compound': 0.7959}\n",
            "\n",
            "Tweet: Survived another hectic day at work. Time for some well-deserved rest! #BusyDay\n",
            "Sentiment: {'neg': 0.0, 'neu': 0.754, 'pos': 0.246, 'compound': 0.5562}\n",
            "\n",
            "Tweet: Nothing like a bit of office banter to brighten up the day. #WorkFun\n",
            "Sentiment: {'neg': 0.141, 'neu': 0.666, 'pos': 0.193, 'compound': 0.1999}\n",
            "\n",
            "Tweet: Lunch break walks are the best way to recharge. #WorkLifeBalance\n",
            "Sentiment: {'neg': 0.0, 'neu': 0.682, 'pos': 0.318, 'compound': 0.6369}\n",
            "\n",
            "Tweet: The satisfaction of solving a tough problem at work is unmatched. #ProblemSolver\n",
            "Sentiment: {'neg': 0.327, 'neu': 0.357, 'pos': 0.315, 'compound': 0.2023}\n",
            "\n",
            "Tweet: Early morning meetings should be illegal. #TooEarly\n",
            "Sentiment: {'neg': 0.375, 'neu': 0.625, 'pos': 0.0, 'compound': -0.5574}\n",
            "\n",
            "Tweet: That moment when your work email finally hits inbox zero. #AchievementUnlocked\n",
            "Sentiment: {'neg': 0.0, 'neu': 1.0, 'pos': 0.0, 'compound': 0.0}\n",
            "\n",
            "Tweet: Love it when the whole team comes together to beat a tight deadline. #Teamwork\n",
            "Sentiment: {'neg': 0.0, 'neu': 0.741, 'pos': 0.259, 'compound': 0.6369}\n",
            "\n",
            "Tweet: Training new staff always reminds me how far I've come. #Mentoring\n",
            "Sentiment: {'neg': 0.0, 'neu': 1.0, 'pos': 0.0, 'compound': 0.0}\n",
            "\n",
            "Tweet: Sometimes the best part of my workday is the quiet after everyone leaves. #Peaceful\n",
            "Sentiment: {'neg': 0.0, 'neu': 0.756, 'pos': 0.244, 'compound': 0.6369}\n",
            "\n",
            "Tweet: Work travel might be tiring, but it's always an adventure. #BusinessTrip\n",
            "Sentiment: {'neg': 0.0, 'neu': 0.772, 'pos': 0.228, 'compound': 0.4497}\n",
            "\n",
            "Tweet: Is there anything more satisfying than a freshly organized workspace? #DeskGoals\n",
            "Sentiment: {'neg': 0.0, 'neu': 0.732, 'pos': 0.268, 'compound': 0.5095}\n",
            "\n",
            "Tweet: End of the day and my to-do list is longer than when I started... How? #WorkMysteries\n",
            "Sentiment: {'neg': 0.0, 'neu': 1.0, 'pos': 0.0, 'compound': 0.0}\n",
            "\n"
          ]
        }
      ]
    },
    {
      "cell_type": "markdown",
      "source": [
        "Based on the sentiment analysis results, we can observe various sentiment scores for the generated tweets. Here's a brief interpretation:\n",
        "\n",
        "- **Neutral Sentiments:** Several tweets received a completely neutral sentiment score (compound: 0.0). This is common for statements that are either factual or don't have clear emotional indicators.\n",
        "\n",
        "- **Positive Sentiments:** Tweets like \"Team brainstorming sessions always spark the best ideas\" and \"Just got praised by my boss for my latest project\" received positive scores, indicating a positive sentiment. This is expected as they contain words or phrases generally associated with positive experiences or achievements.\n",
        "\n",
        "- **Mixed Sentiments:** A tweet like \"Nothing like a bit of office banter to brighten up the day\" received a mixed sentiment, possibly due to words like \"banter\" which can be interpreted in different ways depending on the context.\n",
        "\n",
        "- **Negative Sentiments:** The tweet \"Early morning meetings should be illegal\" showed a negative sentiment. The use of \"illegal\" likely contributed to this negative score.\n",
        "\n",
        "- **Surprising Results:** Some tweets with seemingly positive content, like \"Starting the week with a full to-do list! Let's do this!\", received a neutral sentiment score. This can happen due to the lack of strongly positive linguistic cues as per the VADER model's dictionary."
      ],
      "metadata": {
        "id": "UbHl9i2uUFfN"
      }
    },
    {
      "cell_type": "markdown",
      "source": [
        "# Compare the realism of the generated and real tweets using a metric called perplexity"
      ],
      "metadata": {
        "id": "Y7rdyc_7P7WJ"
      }
    },
    {
      "cell_type": "markdown",
      "source": [
        "Comparing the realism of generated tweets with real tweets using perplexity is a bit complex because perplexity is typically used to evaluate language models, not individual texts. However, what we will do is train a language model on your dataset of real tweets, and then use this model to calculate the perplexity of both the real and generated tweets. Lower perplexity scores will indicate that the tweets are more similar to those the model was trained on, suggesting higher realism."
      ],
      "metadata": {
        "id": "_OGNxVRnVtpe"
      }
    },
    {
      "cell_type": "markdown",
      "source": [
        "1.6 Million tweets is a lot to train on and will take a lot of time. So we will take a random subset of 10,000 tweets to speed it up"
      ],
      "metadata": {
        "id": "Gyec4fyLW7Sa"
      }
    },
    {
      "cell_type": "code",
      "source": [
        "from random import sample\n",
        "\n",
        "real_tweets = df['text'].tolist()\n",
        "\n",
        "real_tweets = sample(real_tweets,10000)"
      ],
      "metadata": {
        "id": "48WhsNSxVP7e"
      },
      "execution_count": 24,
      "outputs": []
    },
    {
      "cell_type": "code",
      "source": [
        "from nltk import FreqDist, MLEProbDist\n",
        "from nltk.tokenize import word_tokenize\n",
        "import math\n",
        "\n",
        "# Function to tokenize tweets\n",
        "def tokenize_tweets(tweets):\n",
        "    return [word_tokenize(tweet.lower()) for tweet in tweets]\n",
        "\n",
        "# Tokenize the real tweets\n",
        "tokenized_real_tweets = tokenize_tweets(real_tweets)\n",
        "\n",
        "# Flatten the list of tokenized tweets to create a corpus\n",
        "corpus = [word for tweet in tokenized_real_tweets for word in tweet]\n",
        "\n",
        "# Create a frequency distribution and MLE probability distribution\n",
        "freq_dist = FreqDist(corpus)\n",
        "prob_dist = MLEProbDist(freq_dist)\n",
        "\n",
        "# Function to calculate perplexity of a tweet\n",
        "def calculate_perplexity(tweet, prob_dist):\n",
        "    tweet_tokens = word_tokenize(tweet.lower())\n",
        "    entropy = 0\n",
        "    for token in tweet_tokens:\n",
        "        if token in prob_dist.samples():\n",
        "            entropy -= math.log(prob_dist.prob(token), 2)\n",
        "        else:\n",
        "            # Handling unknown words - using a small probability\n",
        "            entropy -= math.log(0.01, 2)\n",
        "    return pow(2, entropy / len(tweet_tokens))\n",
        "\n",
        "# Calculate perplexity for each generated tweet\n",
        "perplexities = [calculate_perplexity(tweet, prob_dist) for tweet in generated_tweets]\n",
        "\n",
        "# Display the perplexities\n",
        "for tweet, perplexity in zip(generated_tweets, perplexities):\n",
        "    print(f\"Tweet: {tweet}\\nPerplexity: {perplexity}\\n\")"
      ],
      "metadata": {
        "colab": {
          "base_uri": "https://localhost:8080/"
        },
        "id": "JtWYzxS6UjWV",
        "outputId": "15f1cbf5-b77a-409b-da65-c70ff95f577c"
      },
      "execution_count": 25,
      "outputs": [
        {
          "output_type": "stream",
          "name": "stdout",
          "text": [
            "Tweet: Starting the week with a full to-do list! Let's do this! #MondayMotivation\n",
            "Perplexity: 322.7971989872959\n",
            "\n",
            "Tweet: Work from home day means pajamas and productivity. #RemoteLife\n",
            "Perplexity: 534.9013851056671\n",
            "\n",
            "Tweet: Nothing beats the feeling of ticking off everything on your task list. #ProductiveDay\n",
            "Perplexity: 844.5707773105013\n",
            "\n",
            "Tweet: Why does coffee always seem to work faster in the office? #OfficeMysteries\n",
            "Perplexity: 705.8893636131054\n",
            "\n",
            "Tweet: Team brainstorming sessions always spark the best ideas. #Collaboration\n",
            "Perplexity: 786.5424029217979\n",
            "\n",
            "Tweet: When your work presentation goes exactly as planned. #Success\n",
            "Perplexity: 2607.9865731958675\n",
            "\n",
            "Tweet: Counting down the minutes until the weekend starts! #FridayFeeling\n",
            "Perplexity: 768.156518830628\n",
            "\n",
            "Tweet: Just got praised by my boss for my latest project. Feeling proud! #WorkWin\n",
            "Perplexity: 574.7567968063015\n",
            "\n",
            "Tweet: Survived another hectic day at work. Time for some well-deserved rest! #BusyDay\n",
            "Perplexity: 246.52858395739764\n",
            "\n",
            "Tweet: Nothing like a bit of office banter to brighten up the day. #WorkFun\n",
            "Perplexity: 385.99977553105595\n",
            "\n",
            "Tweet: Lunch break walks are the best way to recharge. #WorkLifeBalance\n",
            "Perplexity: 565.0865294815443\n",
            "\n",
            "Tweet: The satisfaction of solving a tough problem at work is unmatched. #ProblemSolver\n",
            "Perplexity: 238.37051410908072\n",
            "\n",
            "Tweet: Early morning meetings should be illegal. #TooEarly\n",
            "Perplexity: 489.0262017937418\n",
            "\n",
            "Tweet: That moment when your work email finally hits inbox zero. #AchievementUnlocked\n",
            "Perplexity: 1907.3782379795243\n",
            "\n",
            "Tweet: Love it when the whole team comes together to beat a tight deadline. #Teamwork\n",
            "Perplexity: 1000.6565830718723\n",
            "\n",
            "Tweet: Training new staff always reminds me how far I've come. #Mentoring\n",
            "Perplexity: 1007.7686789475083\n",
            "\n",
            "Tweet: Sometimes the best part of my workday is the quiet after everyone leaves. #Peaceful\n",
            "Perplexity: 842.6656225845711\n",
            "\n",
            "Tweet: Work travel might be tiring, but it's always an adventure. #BusinessTrip\n",
            "Perplexity: 815.6152687259934\n",
            "\n",
            "Tweet: Is there anything more satisfying than a freshly organized workspace? #DeskGoals\n",
            "Perplexity: 746.7042422306387\n",
            "\n",
            "Tweet: End of the day and my to-do list is longer than when I started... How? #WorkMysteries\n",
            "Perplexity: 355.45514623901323\n",
            "\n"
          ]
        }
      ]
    },
    {
      "cell_type": "markdown",
      "source": [
        "The perplexity scores for each generated tweet offer a fascinating insight into their characteristics in comparison to your real tweets dataset. Here's a brief analysis:\n",
        "\n",
        "- **Variability in Perplexity:** The perplexity scores vary significantly across different tweets. Higher scores indicate that the language model found the tweet less predictable based on the language patterns it learned from the real tweets.\n",
        "\n",
        "- **High Perplexity Scores:** Some tweets, like \"When your work presentation goes exactly as planned. #Success\" and \"That moment when your work email finally hits inbox zero. #AchievementUnlocked\", show very high perplexity scores. This suggests that the language or phrasing in these tweets is quite different from the majority of tweets in your dataset.\n",
        "\n",
        "- **Lower Perplexity Scores:** On the other hand, tweets like \"Survived another hectic day at work. Time for some well-deserved rest! #BusyDay\" have relatively lower perplexity scores, indicating that their structure or vocabulary is more in line with what the model expects based on the training data.\n",
        "\n",
        "- **Interpreting Perplexity:** Perplexity is a measure of uncertainty or surprise of the language model. Lower scores generally suggest that the tweet is more similar in style or content to the training corpus. However, it's important to note that perplexity alone doesn't capture the quality or realism of a tweet in a human sense - it's more about statistical predictability."
      ],
      "metadata": {
        "id": "2v0J0xJuXZ8F"
      }
    }
  ]
}